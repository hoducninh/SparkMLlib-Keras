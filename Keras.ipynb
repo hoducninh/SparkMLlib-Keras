{
 "cells": [
  {
   "cell_type": "markdown",
   "metadata": {},
   "source": [
    "# Deep Learning using Keras"
   ]
  },
  {
   "cell_type": "markdown",
   "metadata": {},
   "source": [
    "__The outline of this notebook__:\n",
    "\n",
    "I. What is Keras?\n",
    "\n",
    "II. How does Keras work?\n",
    "\n",
    "III. What are the advantages and disadvantages?\n",
    "\n",
    "IV. Key concepts in Deep Learning\n",
    "\n",
    "V. Recommendation System using Keras"
   ]
  },
  {
   "cell_type": "markdown",
   "metadata": {},
   "source": [
    "## What is Keras?\n",
    "\n",
    "Keras is a high-level neural networks API, written in Python and capable of running on top of TensorFlow, CNTK, or Theano. It was developed with a focus on enabling fast experimentation. Being able to go from idea to result with the least possible delay is key to doing good research."
   ]
  },
  {
   "cell_type": "markdown",
   "metadata": {},
   "source": [
    "## How does Keras work?\n",
    "\n",
    "Keras is an interface rather than a standalone framework, like TensorFlow. It offers high-level, intuitive abstractions that enable fast experimentation.\n",
    "    \n",
    "__Analogy One__: Keras is to TensorFlow as seaborn is to matplotlib"
   ]
  },
  {
   "cell_type": "markdown",
   "metadata": {},
   "source": [
    "## What are the advantages and disadvantages\n",
    "\n",
    "### Advatages \n",
    "\n",
    "__User friendliness__ \n",
    "\n",
    "It prioritizes user experience. Minimizes cognitive load. Constant. Simple. Reduces the number of user actions. Popular. Backed by a large and active community.\n",
    "\n",
    "__Modularity and Easy extensibility__\n",
    "\n",
    "Neural layers, functions, schemes, and optimizers, are all standalone modules that you can combine to create new models if you please.\n",
    "\n",
    "__Work with Python__\n",
    "\n",
    "Pretty self explanatory. Python code = compact, easier to debug, and allows for ease of extensibility.\n",
    "\n",
    "### Disadvatage\n",
    "\n",
    "__Limited control__\n",
    "\n",
    "Keras is a beautifully written API that doesn’t block access to lower level frameworks. That being said, Keras isn’t really designed for you to change the underlying architecture of your model. You can customize your layers in Keras (here’s a great example), but it might make sense for you to just use TensorFlow. Depending on what you’re trying to do, you might have implement your training routine outside of Keras."
   ]
  },
  {
   "cell_type": "markdown",
   "metadata": {},
   "source": [
    "## Key concepts in Deep Learning\n",
    "\n",
    "### Input Data\n",
    "- Input data in DL can be of a veriety of types. Essentially, the model undestand datra as \"tensors\".\n",
    "\n",
    "- Tensors are nothing but a generic form for vectors, or in computer engineering terms, a simple n-dimensional matrix. A funny view of tensor could be found as follow\n",
    "\n",
    "![tensor](movielen-imgs/tensor.pnp)\n",
    "\n",
    "__It is a good practice to normalize, standardize, or scale the input values before training__.\n",
    "\n",
    "## Neuron\n",
    "\n",
    "- At the core of the DNN, we have neurons where computation for an output is executed.A neuron receives one or more inputs from the neurons in the previous layer.\n",
    "\n",
    "![neuron](movielen-imgs/neuron.png)\n",
    "\n",
    "__If a higher-­influence input is received, the output should be higher, and vice versa(i.e., higher influence -> then activate, otherwise deactivate)__.\n",
    "\n",
    "## Activation function\n",
    "\n",
    "An activation function takes the combined input z as shown in the above illustration, applies a function on it, and passes the output value. Why do we really need an activation function: \n",
    "\n",
    "- The range of the output value would be -Inf to + Inf, where we won’t have a clear way of defining a threshold where activation should happen.\n",
    "\n",
    "- We can say that if your activation function is a linear function (basically no activation), then the derivative of that function becomes 0. \n",
    "\n",
    "A very good articles about activation functions could be found [here](https://medium.com/the-theory-of-everything/understanding-activation-functions-in-neural-networks-9491262884e0)\n",
    "\n",
    "__There are a variety of choices available to use as an activation function. The most common ones are the sigmoid function and the ReLU.__\n",
    "\n",
    "## Model\n",
    "\n",
    "The overall structure of a DNN is developed using the model object in Keras. This provides a simple way to create a stack of layers by adding new layers one after the other.\n",
    "\n",
    "__The easiest way to define a model is by using the sequential model, which allows easy creation of a linear stack of layers.__\n",
    "\n",
    "## Layers\n",
    "\n",
    "A layer in the DNN is defined as a group of neurons or a logically separated group in a hierarchical network structure.\n",
    "To simplify the model development process, Keras provides us with several types of layers and various means to connect them.\n",
    "\n",
    "### Dense Layer\n",
    "\n",
    "- A dense layer is a regular DNN layer that connects every neuron in the defined layer to every neuron in the previous layer.\n",
    "\n",
    "- Dense layer offers a lot of customization for any given layer. We can specify the number of units (i.e., neurons for the layer), the activation type, the type initialization for kernel and bias, and other constraints. \n",
    "\n",
    "__For the the first layer, the input shape needs to be defined (by providing value for `input_dim`). Subsequent layers just need the number of neurons defined__.\n",
    "\n",
    "### Dropout Layer\n",
    "\n",
    "The dropout layer in DL helps reduce overfitting by introducing regularization and generalization capabilities into the model.\n",
    "We add the dropout layer after a regular layer in the DL model architecture.\n",
    "\n",
    "### Other Important Layers\n",
    "\n",
    "Other important layers such as: Embedding, Convolutional, Pooling,   Merge, Recurrent,... could be found [here](https://keras.io/)\n",
    "\n",
    "## The Loss Function\n",
    "\n",
    "The loss function is the metric that helps a network understand whether it is learning in the right direction. Some popular loss functions in case the __end prediction__ would be a __continuous number__ are: __Mean Squared Error, Mean Absolute Error, Other variants__\n",
    "\n",
    "A few popular choices for losses for __categorical outcomes__ are: __Binary cross-entropy, Categorical cross-entropy__. \n",
    "\n",
    "## Optimizers\n",
    "\n",
    "The most important part of the model training is the optimizer. Up to this point, we have addressed the process of giving feedback to the model through an algorithm called __backpropagation__; this is actually an optimization algorithm.\n",
    "\n",
    "The optimizer function is a mathematical algorithm that uses derivatives, partial derivatives, and the chain rule in calculus to understand how much change the network will see in the loss function by making a small change in the weight of the neurons. The Stochastic Gradient Descent(SGD) and Adaptive Moment Estimation(Adam) are the most popular optimizers in deep learning.\n",
    "\n",
    "### SGD\n",
    "\n",
    "SGD performs an iteration with __each training sample__ (i.e., after the pass of every training sample, it calculates the loss and updates the weight). Since the weights are updated too frequently, the overall loss curve very noisy.\n",
    "\n",
    "![SGDvsBGD](movielen-imgs/SGDvsBGD.png)\n",
    "\n",
    "__To reduce high fluctuations in the SGD optimizations, we reduce the number of iterations by providing minibatch which will enable averaging the loss for all samples in a batch and updating the weights at the end of the batch. Batch size is usually set in powers of 2 (i.e., 32, 64, 128, etc.)__.\n",
    "\n",
    "###  Adam\n",
    "\n",
    "It defines momentum and variance of the gradient of the loss and leverages a combined effect to update the weight parameters. The momentum and variance together help smooth the learning curve and effectively improve the learning process.\n",
    "\n",
    "__Adam is the most popular and widely used optimizer in DL so far. In most case, you can blindly choose the Adam optimizer and forget about the optimization alternatives__. \n",
    "\n",
    "### Other Important Optimizers\n",
    "\n",
    "The other popular optimization alternatives used and available within Keras: Adagrad, Adadelta, RMSProp, Adamax, Nadam\n",
    "\n",
    "## Metrics\n",
    "\n",
    "Metrics can be understood as the function used to judge the performance of the model on a different unseen dataset, also called the validation dataset.\n",
    "\n",
    "The only difference between metrics and the loss function is that the results from metrics are not used in training the model with respect to optimization."
   ]
  },
  {
   "cell_type": "markdown",
   "metadata": {},
   "source": [
    "## Recommendation System using Keras"
   ]
  },
  {
   "cell_type": "markdown",
   "metadata": {},
   "source": [
    "In this notebook, I'll use Keras to build a deep learning model movie recommendations system on the MovieLens 1M dataset. \n",
    "\n",
    "We want to build a model that takes a user, $u_i$ and a movie, $m_j$, and outputs a number from 0.5-5, representing how many stars we think this user would give that movie. \n",
    "\n",
    "> **Aside:** You may have noticed that the [MovieLens dataset](https://github.com/hoducninh/Scikitlearn-sparkML-Keras/tree/master/movilen-dataset) includes information about each movie such as its title, its year of release, a set of genres and user-assigned tags. But for now, we're not going to try to exploit any of that extra information.\n",
    "\n",
    "__we need an embedding layer to handle these inputs__. \n",
    "\n",
    "In short, an **embedding layer** maps each element in a set of discrete things (like words, users, or movies) to a dense vector of real numbers (its **embedding**). \n",
    "\n",
    "> **Aside:** A key implementation detail is that embedding layers take as input the *index* of the entity being embedded (i.e. we can give it our userIds and movieIds as input). You can think of it as a sort of 'lookup table'. This is much more efficient than taking a one-hot vector and doing a huge matrix multiplication!\n",
    "\n",
    "As an example, if we learn embeddings of size 8 for movies, the embedding for *Tarzan* might look like:\n",
    "\n",
    "$$[ 1.624, -0.612, -0.528, -1.073,  0.865, -2.302,  1.745, -0.761]$$\n",
    "\n",
    "**Where do these come from?** We initialize an embedding for each user and movie using random noise, then we train them as part of the process of training the overall rating-prediction model. \n",
    "\n",
    "**What do they mean?** An object's embedding, if it's any good, should capture some useful latent properties of that object. A very good article about embeddings could be found [here](https://jalammar.github.io/illustrated-word2vec/?utm_source=hackernewsletter&utm_medium=email&utm_term=data)\n",
    "\n",
    "The structure of our model should be like this: \n",
    "\n",
    "![embeddings](movielen-imgs/Z1eVQu9.png)\n",
    "\n",
    "We will use the more powerful functional API which is [keras.Model](https://www.tensorflow.org/api_docs/python/tf/keras/Model) class instead of [keras.Sequential](https://www.tensorflow.org/api_docs/python/tf/keras/Sequential) class."
   ]
  },
  {
   "cell_type": "markdown",
   "metadata": {},
   "source": [
    "## Implement model"
   ]
  },
  {
   "cell_type": "markdown",
   "metadata": {},
   "source": [
    "### Loading data"
   ]
  },
  {
   "cell_type": "code",
   "execution_count": 1,
   "metadata": {},
   "outputs": [],
   "source": [
    "import random\n",
    "from functools import lru_cache\n",
    "import os\n",
    "import math\n",
    "\n",
    "import numpy as np\n",
    "import pandas as pd\n",
    "from matplotlib import pyplot as plt\n",
    "import tensorflow as tf\n",
    "from tensorflow import keras\n",
    "\n",
    "# Reading movies file\n",
    "ratings_df = pd.read_csv('movilen-dataset/ratings.csv', sep='\\t', encoding='latin-1', usecols=['user_id', 'movie_id', 'rating'])\n",
    "movies_df = pd.read_csv('movilen-dataset/movies.csv', sep='\\t', encoding='latin-1').drop(columns='Unnamed: 0',axis=1)\n",
    "\n",
    "movies_ratings_df = ratings_df.merge(movies_df, on='movie_id').sort_values(by='user_id')\n",
    "\n",
    "#Data for training \n",
    "df = movies_ratings_df[['user_id', 'movie_id', 'rating']].rename(columns={'rating': 'y'})\n",
    "\n",
    "#save movies_ratings_df for later use \n",
    "movies_ratings_df.to_csv('movilen-dataset/movies_ratings_df.csv')"
   ]
  },
  {
   "cell_type": "code",
   "execution_count": 2,
   "metadata": {
    "scrolled": true
   },
   "outputs": [
    {
     "data": {
      "text/html": [
       "<div>\n",
       "<style scoped>\n",
       "    .dataframe tbody tr th:only-of-type {\n",
       "        vertical-align: middle;\n",
       "    }\n",
       "\n",
       "    .dataframe tbody tr th {\n",
       "        vertical-align: top;\n",
       "    }\n",
       "\n",
       "    .dataframe thead th {\n",
       "        text-align: right;\n",
       "    }\n",
       "</style>\n",
       "<table border=\"1\" class=\"dataframe\">\n",
       "  <thead>\n",
       "    <tr style=\"text-align: right;\">\n",
       "      <th></th>\n",
       "      <th>user_id</th>\n",
       "      <th>movie_id</th>\n",
       "      <th>y</th>\n",
       "    </tr>\n",
       "  </thead>\n",
       "  <tbody>\n",
       "    <tr>\n",
       "      <th>0</th>\n",
       "      <td>1</td>\n",
       "      <td>1193</td>\n",
       "      <td>5</td>\n",
       "    </tr>\n",
       "    <tr>\n",
       "      <th>28501</th>\n",
       "      <td>1</td>\n",
       "      <td>48</td>\n",
       "      <td>5</td>\n",
       "    </tr>\n",
       "  </tbody>\n",
       "</table>\n",
       "</div>"
      ],
      "text/plain": [
       "       user_id  movie_id  y\n",
       "0            1      1193  5\n",
       "28501        1        48  5"
      ]
     },
     "execution_count": 2,
     "metadata": {},
     "output_type": "execute_result"
    }
   ],
   "source": [
    "df.head(2)"
   ]
  },
  {
   "cell_type": "markdown",
   "metadata": {},
   "source": [
    "### Build the model "
   ]
  },
  {
   "cell_type": "code",
   "execution_count": 3,
   "metadata": {},
   "outputs": [
    {
     "name": "stdout",
     "output_type": "stream",
     "text": [
      "________________________________________________________________________________________\n",
      "Layer (type)                 Output Shape       Param #   Connected to                  \n",
      "========================================================================================\n",
      "user_id (InputLayer)         (None, 1)          0                                       \n",
      "________________________________________________________________________________________\n",
      "movie_id (InputLayer)        (None, 1)          0                                       \n",
      "________________________________________________________________________________________\n",
      "user_embedding (Embedding)   (None, 1, 8)       48328     user_id[0][0]                 \n",
      "________________________________________________________________________________________\n",
      "movie_embedding (Embedding)  (None, 1, 8)       31624     movie_id[0][0]                \n",
      "________________________________________________________________________________________\n",
      "concatenate (Concatenate)    (None, 1, 16)      0         user_embedding[0][0]          \n",
      "                                                          movie_embedding[0][0]         \n",
      "________________________________________________________________________________________\n",
      "flatten (Flatten)            (None, 16)         0         concatenate[0][0]             \n",
      "________________________________________________________________________________________\n",
      "dense (Dense)                (None, 32)         544       flatten[0][0]                 \n",
      "________________________________________________________________________________________\n",
      "dense_1 (Dense)              (None, 4)          132       dense[0][0]                   \n",
      "________________________________________________________________________________________\n",
      "prediction (Dense)           (None, 1)          5         dense_1[0][0]                 \n",
      "========================================================================================\n",
      "Total params: 80,633\n",
      "Trainable params: 80,633\n",
      "Non-trainable params: 0\n",
      "________________________________________________________________________________________\n"
     ]
    }
   ],
   "source": [
    "hidden_units = (32,4)\n",
    "movie_embedding_size = 8\n",
    "user_embedding_size = 8\n",
    "\n",
    "# Each instance will consist of two inputs: a single user id, and a single movie id\n",
    "user_id_input = keras.Input(shape=(1,), name='user_id')\n",
    "movie_id_input = keras.Input(shape=(1,), name='movie_id')\n",
    "user_embedded = keras.layers.Embedding(df.user_id.max()+1, user_embedding_size, \n",
    "                                       input_length=1, name='user_embedding')(user_id_input)\n",
    "movie_embedded = keras.layers.Embedding(df.movie_id.max()+1, movie_embedding_size, \n",
    "                                        input_length=1, name='movie_embedding')(movie_id_input)\n",
    "# Concatenate the embeddings (and remove the useless extra dimension)\n",
    "concatenated = keras.layers.Concatenate()([user_embedded, movie_embedded])\n",
    "out = keras.layers.Flatten()(concatenated)\n",
    "\n",
    "# Add one or more hidden layers\n",
    "for n_hidden in hidden_units:\n",
    "    out = keras.layers.Dense(n_hidden, activation='relu')(out)\n",
    "\n",
    "# A single output: our predicted rating\n",
    "out = keras.layers.Dense(1, activation='linear', name='prediction')(out)\n",
    "\n",
    "model = keras.Model(\n",
    "    inputs = [user_id_input, movie_id_input],\n",
    "    outputs = out,\n",
    ")\n",
    "model.summary(line_length=88)"
   ]
  },
  {
   "cell_type": "markdown",
   "metadata": {},
   "source": [
    "\n",
    "We'll compile our model to minimize squared error ('MSE'). We'll also include absolute error ('MAE') as a metric to report during training, since it's a bit easier to interpret."
   ]
  },
  {
   "cell_type": "code",
   "execution_count": 4,
   "metadata": {},
   "outputs": [],
   "source": [
    "model.compile(\n",
    "    # Technical note: when using embedding layers, I highly recommend using one of the optimizers\n",
    "    # found  in tf.train: https://www.tensorflow.org/api_guides/python/train#Optimizers\n",
    "    # Passing in a string like 'adam' or 'SGD' will load one of keras's optimizers (found under \n",
    "    # tf.keras.optimizers). They seem to be much slower on problems like this, because they\n",
    "    # don't efficiently handle sparse gradient updates.\n",
    "    tf.train.AdamOptimizer(0.005),\n",
    "    loss='MSE',\n",
    "    metrics=['MAE'],\n",
    ")"
   ]
  },
  {
   "cell_type": "code",
   "execution_count": 5,
   "metadata": {},
   "outputs": [
    {
     "data": {
      "text/plain": [
       "Index(['user_id', 'movie_id', 'y'], dtype='object')"
      ]
     },
     "execution_count": 5,
     "metadata": {},
     "output_type": "execute_result"
    }
   ],
   "source": [
    "df.columns"
   ]
  },
  {
   "cell_type": "code",
   "execution_count": 6,
   "metadata": {},
   "outputs": [
    {
     "data": {
      "text/plain": [
       "3706"
      ]
     },
     "execution_count": 6,
     "metadata": {},
     "output_type": "execute_result"
    }
   ],
   "source": [
    "df['movie_id'].nunique()"
   ]
  },
  {
   "cell_type": "markdown",
   "metadata": {},
   "source": [
    "### Training it\n",
    "\n",
    "This step will be the most-time consuming one. In my particular case, for our dataset with above 1 million ratings, more than 6,000 users and almost 4,000 movies, I trained the model in roughly 6 minutes per epoch (30 epochs ~ 3 hours) inside my Macbook Laptop CPU. I spitted the training and validataion data with ratio of 90/10."
   ]
  },
  {
   "cell_type": "code",
   "execution_count": 7,
   "metadata": {},
   "outputs": [],
   "source": [
    "history = model.fit(\n",
    "    [df.user_id, df.movie_id],\n",
    "    df.y,\n",
    "    batch_size=5000,\n",
    "    epochs=20,\n",
    "    verbose=0,\n",
    "    validation_split=.1,\n",
    ");"
   ]
  },
  {
   "cell_type": "markdown",
   "metadata": {},
   "source": [
    "We save the model for future use."
   ]
  },
  {
   "cell_type": "code",
   "execution_count": 8,
   "metadata": {},
   "outputs": [],
   "source": [
    "# Save training history for later comparison\n",
    "hdf = pd.DataFrame(dict(\n",
    "    epoch=history.epoch,\n",
    "    val_mae=history.history['val_mean_absolute_error'],\n",
    "    train_mae=history.history['mean_absolute_error'],\n",
    "))\n",
    "hdf.to_csv('history-1.csv')"
   ]
  },
  {
   "cell_type": "markdown",
   "metadata": {},
   "source": [
    "Here's a plot of our embedding model's absolute error over time."
   ]
  },
  {
   "cell_type": "code",
   "execution_count": 9,
   "metadata": {
    "scrolled": false
   },
   "outputs": [
    {
     "data": {
      "image/png": "[encoded data removed]",
      "text/plain": [
       "<Figure size 1080x432 with 1 Axes>"
      ]
     },
     "metadata": {
      "needs_background": "light"
     },
     "output_type": "display_data"
    }
   ],
   "source": [
    "fig, ax = plt.subplots(figsize=(15, 6))\n",
    "ax.plot(history.epoch, history.history['val_mean_absolute_error'], label='Validation MAE')\n",
    "ax.plot(history.epoch, history.history['mean_absolute_error'], label='Training MAE')\n",
    "ax.set_xlabel('Epoch')\n",
    "ax.set_ylabel('Mean Absolute Error')\n",
    "ax.set_xlim(left=0, right=history.epoch[-1])\n",
    "#baseline_mae = 0.73\n",
    "#ax.axhline(baseline_mae, ls='--', label='Baseline', color='#002255', alpha=.5)\n",
    "ax.grid()\n",
    "fig.legend();"
   ]
  },
  {
   "cell_type": "markdown",
   "metadata": {},
   "source": [
    "Not bad!"
   ]
  },
  {
   "cell_type": "markdown",
   "metadata": {},
   "source": [
    "## Example predictions\n",
    "\n",
    "Let's try some example predictions as a sanity check. We'll start by picking out a specific user from the dataset at random."
   ]
  },
  {
   "cell_type": "code",
   "execution_count": 10,
   "metadata": {
    "scrolled": false
   },
   "outputs": [
    {
     "name": "stdout",
     "output_type": "stream",
     "text": [
      "User #5388 has rated 24 movies (avg. rating = 4.0):\n"
     ]
    },
    {
     "data": {
      "text/html": [
       "<div>\n",
       "<style scoped>\n",
       "    .dataframe tbody tr th:only-of-type {\n",
       "        vertical-align: middle;\n",
       "    }\n",
       "\n",
       "    .dataframe tbody tr th {\n",
       "        vertical-align: top;\n",
       "    }\n",
       "\n",
       "    .dataframe thead th {\n",
       "        text-align: right;\n",
       "    }\n",
       "</style>\n",
       "<table border=\"1\" class=\"dataframe\">\n",
       "  <thead>\n",
       "    <tr style=\"text-align: right;\">\n",
       "      <th></th>\n",
       "      <th>user_id</th>\n",
       "      <th>movie_id</th>\n",
       "      <th>rating</th>\n",
       "      <th>title</th>\n",
       "      <th>genres</th>\n",
       "    </tr>\n",
       "  </thead>\n",
       "  <tbody>\n",
       "    <tr>\n",
       "      <th>135615</th>\n",
       "      <td>5388</td>\n",
       "      <td>1198</td>\n",
       "      <td>5</td>\n",
       "      <td>Raiders of the Lost Ark (1981)</td>\n",
       "      <td>Action|Adventure</td>\n",
       "    </tr>\n",
       "    <tr>\n",
       "      <th>159777</th>\n",
       "      <td>5388</td>\n",
       "      <td>349</td>\n",
       "      <td>5</td>\n",
       "      <td>Clear and Present Danger (1994)</td>\n",
       "      <td>Action|Adventure|Thriller</td>\n",
       "    </tr>\n",
       "    <tr>\n",
       "      <th>193829</th>\n",
       "      <td>5388</td>\n",
       "      <td>1291</td>\n",
       "      <td>5</td>\n",
       "      <td>Indiana Jones and the Last Crusade (1989)</td>\n",
       "      <td>Action|Adventure</td>\n",
       "    </tr>\n",
       "    <tr>\n",
       "      <th>351003</th>\n",
       "      <td>5388</td>\n",
       "      <td>1573</td>\n",
       "      <td>5</td>\n",
       "      <td>Face/Off (1997)</td>\n",
       "      <td>Action|Sci-Fi|Thriller</td>\n",
       "    </tr>\n",
       "    <tr>\n",
       "      <th>27891</th>\n",
       "      <td>5388</td>\n",
       "      <td>527</td>\n",
       "      <td>5</td>\n",
       "      <td>Schindler's List (1993)</td>\n",
       "      <td>Drama|War</td>\n",
       "    </tr>\n",
       "    <tr>\n",
       "      <th>166142</th>\n",
       "      <td>5388</td>\n",
       "      <td>3418</td>\n",
       "      <td>4</td>\n",
       "      <td>Thelma &amp; Louise (1991)</td>\n",
       "      <td>Action|Drama</td>\n",
       "    </tr>\n",
       "    <tr>\n",
       "      <th>125518</th>\n",
       "      <td>5388</td>\n",
       "      <td>2353</td>\n",
       "      <td>4</td>\n",
       "      <td>Enemy of the State (1998)</td>\n",
       "      <td>Action|Thriller</td>\n",
       "    </tr>\n",
       "  </tbody>\n",
       "</table>\n",
       "</div>"
      ],
      "text/plain": [
       "        user_id  movie_id  rating                                      title  \\\n",
       "135615     5388      1198       5             Raiders of the Lost Ark (1981)   \n",
       "159777     5388       349       5            Clear and Present Danger (1994)   \n",
       "193829     5388      1291       5  Indiana Jones and the Last Crusade (1989)   \n",
       "351003     5388      1573       5                            Face/Off (1997)   \n",
       "27891      5388       527       5                    Schindler's List (1993)   \n",
       "166142     5388      3418       4                     Thelma & Louise (1991)   \n",
       "125518     5388      2353       4                  Enemy of the State (1998)   \n",
       "\n",
       "                           genres  \n",
       "135615           Action|Adventure  \n",
       "159777  Action|Adventure|Thriller  \n",
       "193829           Action|Adventure  \n",
       "351003     Action|Sci-Fi|Thriller  \n",
       "27891                   Drama|War  \n",
       "166142               Action|Drama  \n",
       "125518            Action|Thriller  "
      ]
     },
     "execution_count": 10,
     "metadata": {},
     "output_type": "execute_result"
    }
   ],
   "source": [
    "ratings_per_user = df.groupby('user_id').size()\n",
    "uid = ratings_per_user[ratings_per_user < 30].sample(1, random_state=1).index[0]\n",
    "\n",
    "user_ratings = movies_ratings_df[movies_ratings_df.user_id==uid]\n",
    "print(\"User #{} has rated {} movies (avg. rating = {:.1f}):\".format(\n",
    "    uid, len(user_ratings), user_ratings['rating'].mean(),\n",
    "))\n",
    "cols = ['user_id', 'movie_id', 'rating', 'title', 'genres']\n",
    "user_ratings.sort_values(by='rating', ascending=False)[cols].head(7)"
   ]
  },
  {
   "cell_type": "markdown",
   "metadata": {},
   "source": [
    "User 5388 seems to give the perfect point for films with genres of Action and Adventure. The user might not like the Comedy films as he or she gave the low points for these films. \n",
    "\n",
    "With our intuition, lets try to give prediction for films for two films he may like `Poseidon Adventure, The (1972)`, `Free Willy 2: The Adventure Home (1995)`, and one films he may dislike `Adventures of Elmo in Grouchland, The (1999)`. "
   ]
  },
  {
   "cell_type": "code",
   "execution_count": 11,
   "metadata": {},
   "outputs": [
    {
     "data": {
      "text/html": [
       "<div>\n",
       "<style scoped>\n",
       "    .dataframe tbody tr th:only-of-type {\n",
       "        vertical-align: middle;\n",
       "    }\n",
       "\n",
       "    .dataframe tbody tr th {\n",
       "        vertical-align: top;\n",
       "    }\n",
       "\n",
       "    .dataframe thead th {\n",
       "        text-align: right;\n",
       "    }\n",
       "</style>\n",
       "<table border=\"1\" class=\"dataframe\">\n",
       "  <thead>\n",
       "    <tr style=\"text-align: right;\">\n",
       "      <th></th>\n",
       "      <th>movie_id</th>\n",
       "      <th>title</th>\n",
       "      <th>genres</th>\n",
       "    </tr>\n",
       "  </thead>\n",
       "  <tbody>\n",
       "    <tr>\n",
       "      <th>167</th>\n",
       "      <td>169</td>\n",
       "      <td>Free Willy 2: The Adventure Home (1995)</td>\n",
       "      <td>Adventure|Children's|Drama</td>\n",
       "    </tr>\n",
       "    <tr>\n",
       "      <th>1944</th>\n",
       "      <td>2013</td>\n",
       "      <td>Poseidon Adventure, The (1972)</td>\n",
       "      <td>Action|Adventure</td>\n",
       "    </tr>\n",
       "    <tr>\n",
       "      <th>2817</th>\n",
       "      <td>2886</td>\n",
       "      <td>Adventures of Elmo in Grouchland, The (1999)</td>\n",
       "      <td>Children's|Comedy</td>\n",
       "    </tr>\n",
       "  </tbody>\n",
       "</table>\n",
       "</div>"
      ],
      "text/plain": [
       "      movie_id                                         title  \\\n",
       "167        169       Free Willy 2: The Adventure Home (1995)   \n",
       "1944      2013                Poseidon Adventure, The (1972)   \n",
       "2817      2886  Adventures of Elmo in Grouchland, The (1999)   \n",
       "\n",
       "                          genres  \n",
       "167   Adventure|Children's|Drama  \n",
       "1944            Action|Adventure  \n",
       "2817           Children's|Comedy  "
      ]
     },
     "execution_count": 11,
     "metadata": {},
     "output_type": "execute_result"
    }
   ],
   "source": [
    "movies_df[\n",
    "    (movies_df.title == 'Poseidon Adventure, The (1972)')\n",
    "    | (movies_df.title == 'Free Willy 2: The Adventure Home (1995)')\n",
    "    | (movies_df.title == 'Adventures of Elmo in Grouchland, The (1999)')\n",
    "]"
   ]
  },
  {
   "cell_type": "code",
   "execution_count": 12,
   "metadata": {},
   "outputs": [],
   "source": [
    "candidate_movies = movies_df[\n",
    "    (movies_df.title == 'Poseidon Adventure, The (1972)')\n",
    "    | (movies_df.title == 'Free Willy 2: The Adventure Home (1995)')\n",
    "    | (movies_df.title == 'Adventures of Elmo in Grouchland, The (1999)')\n",
    "].copy()\n",
    "\n",
    "preds = model.predict([\n",
    "    [uid] * len(candidate_movies), # User ids \n",
    "    candidate_movies.index, # Movie ids\n",
    "])"
   ]
  },
  {
   "cell_type": "code",
   "execution_count": 13,
   "metadata": {},
   "outputs": [
    {
     "data": {
      "text/plain": [
       "array([[3.481594 ],\n",
       "       [3.9872577],\n",
       "       [2.3681152]], dtype=float32)"
      ]
     },
     "execution_count": 13,
     "metadata": {},
     "output_type": "execute_result"
    }
   ],
   "source": [
    "preds"
   ]
  },
  {
   "cell_type": "markdown",
   "metadata": {},
   "source": [
    "Looks pretty reasonable! "
   ]
  }
 ],
 "metadata": {
  "kernelspec": {
   "display_name": "Python 3",
   "language": "python",
   "name": "python3"
  },
  "language_info": {
   "codemirror_mode": {
    "name": "ipython",
    "version": 3
   },
   "file_extension": ".py",
   "mimetype": "text/x-python",
   "name": "python",
   "nbconvert_exporter": "python",
   "pygments_lexer": "ipython3",
   "version": "3.6.8"
  }
 },
 "nbformat": 4,
 "nbformat_minor": 2
}
